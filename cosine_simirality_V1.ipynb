{
 "cells": [
  {
   "cell_type": "code",
   "execution_count": 3,
   "metadata": {},
   "outputs": [
    {
     "name": "stdout",
     "output_type": "stream",
     "text": [
      "Lancaster University\n",
      "University of East Anglia UEA\n"
     ]
    }
   ],
   "source": [
    "import pandas as pd\n",
    "from sklearn.metrics.pairwise import cosine_similarity\n",
    "import numpy as np\n",
    "\n",
    "# Read in the dataset\n",
    "df = pd.read_csv('dataset.csv')\n",
    "\n",
    "\n",
    "# Get a matrix with only the selected features\n",
    "features = ['uk_rank', 'average_fee', 'world_rank', 'percentage_of_international_students', 'student_satisfaction', 'research_quality', 'graduate_prospect']\n",
    "X = df[features].values\n",
    "\n",
    "# Calculate cosine similarity between universities\n",
    "similarity = cosine_similarity(X)\n",
    "\n",
    "# Function to get recommendations\n",
    "def get_recommendations(preferred_course, max_fees, lowest_uk_rank):\n",
    "    \n",
    "    # Filter datasets\n",
    "    course_df = df[df['course'] == preferred_course]\n",
    "    affordable_df = course_df[course_df['average_fee'] <= max_fees]\n",
    "    ranked_df = affordable_df[affordable_df['uk_rank'] <= lowest_uk_rank]\n",
    "    \n",
    "    if ranked_df.shape[0] > 0:\n",
    "        \n",
    "        # Get the indices of ranked universities\n",
    "        indices = ranked_df.index.values\n",
    "        \n",
    "        # Get similarity scores of ranked unis\n",
    "        sim_scores = list(enumerate(similarity[indices,:]))\n",
    "        \n",
    "        # Sort universities by similarity\n",
    "        sim_scores = sorted(sim_scores, key=lambda x: x[1][0], reverse=True)\n",
    "        \n",
    "        # Get top 3 most similar universities \n",
    "        top3_indices = [i[0] for i in sim_scores[:3]]\n",
    "        \n",
    "        # Return university names\n",
    "        for i in top3_indices:\n",
    "            print(ranked_df['university'].iloc[i]) \n",
    "    else:\n",
    "        print('No recommendations found. Please adjust your criteria.')\n",
    "\n",
    "# Display recommendations    \n",
    "get_recommendations('Social Sciences', 20000, 25)"
   ]
  },
  {
   "cell_type": "code",
   "execution_count": null,
   "metadata": {},
   "outputs": [],
   "source": []
  }
 ],
 "metadata": {
  "kernelspec": {
   "display_name": "Python 3 (ipykernel)",
   "language": "python",
   "name": "python3"
  },
  "language_info": {
   "codemirror_mode": {
    "name": "ipython",
    "version": 3
   },
   "file_extension": ".py",
   "mimetype": "text/x-python",
   "name": "python",
   "nbconvert_exporter": "python",
   "pygments_lexer": "ipython3",
   "version": "3.9.13"
  }
 },
 "nbformat": 4,
 "nbformat_minor": 2
}
