{
 "cells": [
  {
   "cell_type": "code",
   "execution_count": 3,
   "metadata": {},
   "outputs": [],
   "source": [
    "import pandas as pd\n",
    "from sklearn.neighbors import NearestNeighbors"
   ]
  },
  {
   "cell_type": "code",
   "execution_count": 4,
   "metadata": {},
   "outputs": [],
   "source": [
    "df = pd.read_csv('dataset.csv')"
   ]
  },
  {
   "cell_type": "code",
   "execution_count": 5,
   "metadata": {},
   "outputs": [],
   "source": [
    "average_fee=15000\n",
    "\n",
    "course='Computing'"
   ]
  },
  {
   "cell_type": "code",
   "execution_count": 6,
   "metadata": {},
   "outputs": [],
   "source": [
    "df_filtered = df[(df['course'] == course) & (df['average_fee']< average_fee)]"
   ]
  },
  {
   "cell_type": "code",
   "execution_count": 7,
   "metadata": {},
   "outputs": [
    {
     "name": "stdout",
     "output_type": "stream",
     "text": [
      "Nottingham Trent University\n",
      "Sheffield Hallam University\n",
      "Birmingham City University\n"
     ]
    }
   ],
   "source": [
    "if len(df_filtered) == 0:\n",
    "    print(\"No matches found\")\n",
    "else:  \n",
    "    model = NearestNeighbors(n_neighbors=3)\n",
    "    model.fit(df_filtered[['uk_rank', 'world_rank', 'percentage_of_international_students','student_satisfaction', 'research_quality', 'graduate_prospect']])\n",
    "    distances, indices = model.kneighbors(df_filtered[['uk_rank', 'world_rank', 'percentage_of_international_students','student_satisfaction', 'research_quality', 'graduate_prospect']])\n",
    "    \n",
    "    n_recs = min(len(indices[0]),3)\n",
    "    for i in indices[0][:n_recs]:\n",
    "        print(df_filtered.iloc[i]['university'])"
   ]
  },
  {
   "cell_type": "code",
   "execution_count": null,
   "metadata": {},
   "outputs": [],
   "source": []
  }
 ],
 "metadata": {
  "kernelspec": {
   "display_name": "Python 3 (ipykernel)",
   "language": "python",
   "name": "python3"
  },
  "language_info": {
   "codemirror_mode": {
    "name": "ipython",
    "version": 3
   },
   "file_extension": ".py",
   "mimetype": "text/x-python",
   "name": "python",
   "nbconvert_exporter": "python",
   "pygments_lexer": "ipython3",
   "version": "3.9.13"
  }
 },
 "nbformat": 4,
 "nbformat_minor": 2
}
