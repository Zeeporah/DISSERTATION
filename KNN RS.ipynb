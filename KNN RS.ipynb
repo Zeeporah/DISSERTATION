{
 "cells": [
  {
   "cell_type": "markdown",
   "id": "8d9f65ba",
   "metadata": {},
   "source": [
    "# KNN\n"
   ]
  },
  {
   "cell_type": "code",
   "execution_count": 21,
   "id": "e4e4ae6f",
   "metadata": {},
   "outputs": [],
   "source": [
    "import pandas as pd\n",
    "import numpy as np\n",
    "from sklearn.neighbors import NearestNeighbors"
   ]
  },
  {
   "cell_type": "code",
   "execution_count": 22,
   "id": "43c4803e",
   "metadata": {},
   "outputs": [],
   "source": [
    "#Load dataset\n",
    "UK_UNI = pd.read_csv('Populated UK UNI.csv')"
   ]
  },
  {
   "cell_type": "code",
   "execution_count": 23,
   "id": "c565ab09",
   "metadata": {},
   "outputs": [],
   "source": [
    "#Define features to use\n",
    "features = ['Region', 'UK_rank', 'Estimated_cost_of_living_per_year_(in_pounds)', 'Minimum_IELTS_score', \n",
    "            'PG_average_fees_(in_pounds)', 'Student_satisfaction']\n"
   ]
  },
  {
   "cell_type": "code",
   "execution_count": 24,
   "id": "50ad16c0",
   "metadata": {},
   "outputs": [],
   "source": [
    "#Create university feature matrix\n",
    "X = UK_UNI[features].values"
   ]
  },
  {
   "cell_type": "code",
   "execution_count": 25,
   "id": "a22cc74f",
   "metadata": {},
   "outputs": [],
   "source": [
    "#Define student preferences\n",
    "student_preference = [1, 10, 5, 7, 9]"
   ]
  },
  {
   "cell_type": "code",
   "execution_count": 26,
   "id": "27ad916d",
   "metadata": {},
   "outputs": [],
   "source": [
    "#Create student preference vector\n",
    "\n",
    "student_vector = np.array(student_preference).reshape(1, -1)"
   ]
  },
  {
   "cell_type": "code",
   "execution_count": 27,
   "id": "11e20f0b",
   "metadata": {},
   "outputs": [],
   "source": [
    "#Create KNN model\n",
    "knn = NearestNeighbors(n_neighbors=5, metric='euclidean')"
   ]
  },
  {
   "cell_type": "code",
   "execution_count": 11,
   "id": "470eba64",
   "metadata": {},
   "outputs": [],
   "source": [
    "#Fit model\n",
    "\n",
    "#At this point, I encountered an error: ValueError: could not convert string to float: 'East of England'\n",
    "#This error occurs because the KNN algorithm expects all the features to be numeric,\n",
    "#but the 'Region' feature contains text values like 'East of England' instead of numbers.\n",
    "\n",
    "#To fix this, we need to encode the 'Region' feature to numeric values before fitting the KNN model.\n",
    "\n",
    "#knn.fit(X)  -- the code that gave an error"
   ]
  },
  {
   "cell_type": "code",
   "execution_count": 14,
   "id": "675985c7",
   "metadata": {},
   "outputs": [],
   "source": [
    "# Encode Region feature \n",
    "#region_encoding = {'East of England':0, 'London':1, 'North West England':2, \n",
    "                   'Scotland':3, 'South East England':4, 'Yorkshire and the Humber':5}\n",
    "#UK_UNI['Region'] = UK_UNI['Region'].map(region_encoding)\n",
    "\n",
    "# Create university feature matrix\n",
    "#X = UK_UNI[features].values\n",
    "\n",
    "# Fit KNN model\n",
    "#knn.fit(X)\n",
    "\n",
    "#Encountered another error here (ValueError: could not convert string to float: '85.50%') because \n",
    "#the 'Student_satisfaction' feature contains percentage values like '85.50%' instead of regular numbers.\n",
    "\n",
    "# I converted these percentage strings to actual float numbers before so I can use them with KNN"
   ]
  },
  {
   "cell_type": "code",
   "execution_count": 43,
   "id": "ee0fd9ff",
   "metadata": {},
   "outputs": [],
   "source": [
    "# Encode Region feature \n",
    "region_encoding = {'East of England':0, 'London':1, 'North West England':2, \n",
    "                   'Scotland':3, 'South East England':4, 'Yorkshire and the Humber':5}\n",
    "UK_UNI['Region'] = UK_UNI['Region'].map(region_encoding)\n",
    "\n",
    "\n",
    "# Convert to string \n",
    "UK_UNI['Student_satisfaction'] = UK_UNI['Student_satisfaction'].astype(str)\n",
    "\n",
    "# Now use .str methods  \n",
    "UK_UNI['Student_satisfaction'] = UK_UNI['Student_satisfaction'].str.rstrip('%').astype('float')\n",
    "\n",
    "\n",
    "\n",
    "\n",
    "# Drop rows with any NaN values\n",
    "#UK_UNI.dropna(inplace=True) \n",
    "\n",
    "# Create university feature matrix\n",
    "#X = UK_UNI[features].values\n",
    "\n",
    "# Fit KNN model\n",
    "#knn.fit(X)"
   ]
  },
  {
   "cell_type": "code",
   "execution_count": 46,
   "id": "741abc32",
   "metadata": {},
   "outputs": [
    {
     "data": {
      "text/html": [
       "<div>\n",
       "<style scoped>\n",
       "    .dataframe tbody tr th:only-of-type {\n",
       "        vertical-align: middle;\n",
       "    }\n",
       "\n",
       "    .dataframe tbody tr th {\n",
       "        vertical-align: top;\n",
       "    }\n",
       "\n",
       "    .dataframe thead th {\n",
       "        text-align: right;\n",
       "    }\n",
       "</style>\n",
       "<table border=\"1\" class=\"dataframe\">\n",
       "  <thead>\n",
       "    <tr style=\"text-align: right;\">\n",
       "      <th></th>\n",
       "      <th>University_name</th>\n",
       "      <th>Course_Name</th>\n",
       "      <th>Region</th>\n",
       "      <th>Founded_year</th>\n",
       "      <th>UK_rank</th>\n",
       "      <th>World_rank</th>\n",
       "      <th>Minimum_IELTS_score</th>\n",
       "      <th>PG_average_fees_(in_pounds)</th>\n",
       "      <th>International_students</th>\n",
       "      <th>Student_satisfaction</th>\n",
       "      <th>Student_enrollment</th>\n",
       "      <th>Academic_staff</th>\n",
       "      <th>Control_type</th>\n",
       "      <th>Academic_Calender</th>\n",
       "      <th>Campus_setting</th>\n",
       "      <th>Estimated_cost_of_living_per_year_(in_pounds)</th>\n",
       "    </tr>\n",
       "  </thead>\n",
       "  <tbody>\n",
       "  </tbody>\n",
       "</table>\n",
       "</div>"
      ],
      "text/plain": [
       "Empty DataFrame\n",
       "Columns: [University_name, Course_Name, Region, Founded_year, UK_rank, World_rank, Minimum_IELTS_score, PG_average_fees_(in_pounds), International_students, Student_satisfaction, Student_enrollment, Academic_staff, Control_type, Academic_Calender, Campus_setting, Estimated_cost_of_living_per_year_(in_pounds)]\n",
       "Index: []"
      ]
     },
     "execution_count": 46,
     "metadata": {},
     "output_type": "execute_result"
    }
   ],
   "source": [
    "# Drop rows with any NaN values\n",
    "UK_UNI.dropna(inplace=True) \n",
    "\n",
    "UK_UNI\n",
    "\n",
    "\n",
    "\n"
   ]
  },
  {
   "cell_type": "code",
   "execution_count": 45,
   "id": "7b97a7d6",
   "metadata": {},
   "outputs": [
    {
     "ename": "ValueError",
     "evalue": "Found array with 0 sample(s) (shape=(0, 6)) while a minimum of 1 is required.",
     "output_type": "error",
     "traceback": [
      "\u001b[1;31m---------------------------------------------------------------------------\u001b[0m",
      "\u001b[1;31mValueError\u001b[0m                                Traceback (most recent call last)",
      "\u001b[1;32m~\\AppData\\Local\\Temp\\ipykernel_26612\\957919125.py\u001b[0m in \u001b[0;36m<module>\u001b[1;34m\u001b[0m\n\u001b[0;32m      3\u001b[0m \u001b[1;33m\u001b[0m\u001b[0m\n\u001b[0;32m      4\u001b[0m \u001b[1;31m# Fit KNN model\u001b[0m\u001b[1;33m\u001b[0m\u001b[1;33m\u001b[0m\u001b[0m\n\u001b[1;32m----> 5\u001b[1;33m \u001b[0mknn\u001b[0m\u001b[1;33m.\u001b[0m\u001b[0mfit\u001b[0m\u001b[1;33m(\u001b[0m\u001b[0mX\u001b[0m\u001b[1;33m)\u001b[0m\u001b[1;33m\u001b[0m\u001b[1;33m\u001b[0m\u001b[0m\n\u001b[0m",
      "\u001b[1;32m~\\anaconda3\\lib\\site-packages\\sklearn\\neighbors\\_unsupervised.py\u001b[0m in \u001b[0;36mfit\u001b[1;34m(self, X, y)\u001b[0m\n\u001b[0;32m    164\u001b[0m             \u001b[0mThe\u001b[0m \u001b[0mfitted\u001b[0m \u001b[0mnearest\u001b[0m \u001b[0mneighbors\u001b[0m \u001b[0mestimator\u001b[0m\u001b[1;33m.\u001b[0m\u001b[1;33m\u001b[0m\u001b[1;33m\u001b[0m\u001b[0m\n\u001b[0;32m    165\u001b[0m         \"\"\"\n\u001b[1;32m--> 166\u001b[1;33m         \u001b[1;32mreturn\u001b[0m \u001b[0mself\u001b[0m\u001b[1;33m.\u001b[0m\u001b[0m_fit\u001b[0m\u001b[1;33m(\u001b[0m\u001b[0mX\u001b[0m\u001b[1;33m)\u001b[0m\u001b[1;33m\u001b[0m\u001b[1;33m\u001b[0m\u001b[0m\n\u001b[0m",
      "\u001b[1;32m~\\anaconda3\\lib\\site-packages\\sklearn\\neighbors\\_base.py\u001b[0m in \u001b[0;36m_fit\u001b[1;34m(self, X, y)\u001b[0m\n\u001b[0;32m    433\u001b[0m         \u001b[1;32melse\u001b[0m\u001b[1;33m:\u001b[0m\u001b[1;33m\u001b[0m\u001b[1;33m\u001b[0m\u001b[0m\n\u001b[0;32m    434\u001b[0m             \u001b[1;32mif\u001b[0m \u001b[1;32mnot\u001b[0m \u001b[0misinstance\u001b[0m\u001b[1;33m(\u001b[0m\u001b[0mX\u001b[0m\u001b[1;33m,\u001b[0m \u001b[1;33m(\u001b[0m\u001b[0mKDTree\u001b[0m\u001b[1;33m,\u001b[0m \u001b[0mBallTree\u001b[0m\u001b[1;33m,\u001b[0m \u001b[0mNeighborsBase\u001b[0m\u001b[1;33m)\u001b[0m\u001b[1;33m)\u001b[0m\u001b[1;33m:\u001b[0m\u001b[1;33m\u001b[0m\u001b[1;33m\u001b[0m\u001b[0m\n\u001b[1;32m--> 435\u001b[1;33m                 \u001b[0mX\u001b[0m \u001b[1;33m=\u001b[0m \u001b[0mself\u001b[0m\u001b[1;33m.\u001b[0m\u001b[0m_validate_data\u001b[0m\u001b[1;33m(\u001b[0m\u001b[0mX\u001b[0m\u001b[1;33m,\u001b[0m \u001b[0maccept_sparse\u001b[0m\u001b[1;33m=\u001b[0m\u001b[1;34m\"csr\"\u001b[0m\u001b[1;33m)\u001b[0m\u001b[1;33m\u001b[0m\u001b[1;33m\u001b[0m\u001b[0m\n\u001b[0m\u001b[0;32m    436\u001b[0m \u001b[1;33m\u001b[0m\u001b[0m\n\u001b[0;32m    437\u001b[0m         \u001b[0mself\u001b[0m\u001b[1;33m.\u001b[0m\u001b[0m_check_algorithm_metric\u001b[0m\u001b[1;33m(\u001b[0m\u001b[1;33m)\u001b[0m\u001b[1;33m\u001b[0m\u001b[1;33m\u001b[0m\u001b[0m\n",
      "\u001b[1;32m~\\anaconda3\\lib\\site-packages\\sklearn\\base.py\u001b[0m in \u001b[0;36m_validate_data\u001b[1;34m(self, X, y, reset, validate_separately, **check_params)\u001b[0m\n\u001b[0;32m    564\u001b[0m             \u001b[1;32mraise\u001b[0m \u001b[0mValueError\u001b[0m\u001b[1;33m(\u001b[0m\u001b[1;34m\"Validation should be done on X, y or both.\"\u001b[0m\u001b[1;33m)\u001b[0m\u001b[1;33m\u001b[0m\u001b[1;33m\u001b[0m\u001b[0m\n\u001b[0;32m    565\u001b[0m         \u001b[1;32melif\u001b[0m \u001b[1;32mnot\u001b[0m \u001b[0mno_val_X\u001b[0m \u001b[1;32mand\u001b[0m \u001b[0mno_val_y\u001b[0m\u001b[1;33m:\u001b[0m\u001b[1;33m\u001b[0m\u001b[1;33m\u001b[0m\u001b[0m\n\u001b[1;32m--> 566\u001b[1;33m             \u001b[0mX\u001b[0m \u001b[1;33m=\u001b[0m \u001b[0mcheck_array\u001b[0m\u001b[1;33m(\u001b[0m\u001b[0mX\u001b[0m\u001b[1;33m,\u001b[0m \u001b[1;33m**\u001b[0m\u001b[0mcheck_params\u001b[0m\u001b[1;33m)\u001b[0m\u001b[1;33m\u001b[0m\u001b[1;33m\u001b[0m\u001b[0m\n\u001b[0m\u001b[0;32m    567\u001b[0m             \u001b[0mout\u001b[0m \u001b[1;33m=\u001b[0m \u001b[0mX\u001b[0m\u001b[1;33m\u001b[0m\u001b[1;33m\u001b[0m\u001b[0m\n\u001b[0;32m    568\u001b[0m         \u001b[1;32melif\u001b[0m \u001b[0mno_val_X\u001b[0m \u001b[1;32mand\u001b[0m \u001b[1;32mnot\u001b[0m \u001b[0mno_val_y\u001b[0m\u001b[1;33m:\u001b[0m\u001b[1;33m\u001b[0m\u001b[1;33m\u001b[0m\u001b[0m\n",
      "\u001b[1;32m~\\anaconda3\\lib\\site-packages\\sklearn\\utils\\validation.py\u001b[0m in \u001b[0;36mcheck_array\u001b[1;34m(array, accept_sparse, accept_large_sparse, dtype, order, copy, force_all_finite, ensure_2d, allow_nd, ensure_min_samples, ensure_min_features, estimator)\u001b[0m\n\u001b[0;32m    803\u001b[0m         \u001b[0mn_samples\u001b[0m \u001b[1;33m=\u001b[0m \u001b[0m_num_samples\u001b[0m\u001b[1;33m(\u001b[0m\u001b[0marray\u001b[0m\u001b[1;33m)\u001b[0m\u001b[1;33m\u001b[0m\u001b[1;33m\u001b[0m\u001b[0m\n\u001b[0;32m    804\u001b[0m         \u001b[1;32mif\u001b[0m \u001b[0mn_samples\u001b[0m \u001b[1;33m<\u001b[0m \u001b[0mensure_min_samples\u001b[0m\u001b[1;33m:\u001b[0m\u001b[1;33m\u001b[0m\u001b[1;33m\u001b[0m\u001b[0m\n\u001b[1;32m--> 805\u001b[1;33m             raise ValueError(\n\u001b[0m\u001b[0;32m    806\u001b[0m                 \u001b[1;34m\"Found array with %d sample(s) (shape=%s) while a\"\u001b[0m\u001b[1;33m\u001b[0m\u001b[1;33m\u001b[0m\u001b[0m\n\u001b[0;32m    807\u001b[0m                 \u001b[1;34m\" minimum of %d is required%s.\"\u001b[0m\u001b[1;33m\u001b[0m\u001b[1;33m\u001b[0m\u001b[0m\n",
      "\u001b[1;31mValueError\u001b[0m: Found array with 0 sample(s) (shape=(0, 6)) while a minimum of 1 is required."
     ]
    }
   ],
   "source": [
    "# Create university feature matrix\n",
    "X = UK_UNI[features].values\n",
    "\n",
    "# Fit KNN model\n",
    "knn.fit(X)"
   ]
  },
  {
   "cell_type": "code",
   "execution_count": null,
   "id": "1294c577",
   "metadata": {},
   "outputs": [],
   "source": []
  }
 ],
 "metadata": {
  "kernelspec": {
   "display_name": "Python 3 (ipykernel)",
   "language": "python",
   "name": "python3"
  },
  "language_info": {
   "codemirror_mode": {
    "name": "ipython",
    "version": 3
   },
   "file_extension": ".py",
   "mimetype": "text/x-python",
   "name": "python",
   "nbconvert_exporter": "python",
   "pygments_lexer": "ipython3",
   "version": "3.9.13"
  }
 },
 "nbformat": 4,
 "nbformat_minor": 5
}
